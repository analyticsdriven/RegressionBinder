{
 "cells": [
  {
   "cell_type": "markdown",
   "metadata": {},
   "source": [
    "# Selected Exercises from Chapter 2"
   ]
  },
  {
   "cell_type": "markdown",
   "metadata": {},
   "source": [
    "**2.1 \"...the INTERNET data file contains data from 2010 relating to gross domestic product (GDP) per capita in USD thousands and the percentage of the population that are Internet users for 212 countries. Here, GDP is based on purchasing power parities to account for between-country differences in price levels. This problem investigates whether there is a linear association between these two variables. In particular, how effective is it to use to predict using\n",
    "simple linear regression?\"**"
   ]
  },
  {
   "cell_type": "markdown",
   "metadata": {},
   "source": [
    ">(a) Find the least squares line for the data, that is, use statistical software to find the intercept and slope of the least squares line, and write down the equation of that line <a href = \"http://iainpardoe.com/arm2e/jmp/\" target = \"_blank\">[computer help #25]</a>.\n",
    "\n",
    "Predictor: GDP - GDP in USD thousands\n",
    "<br>\n",
    "Response: Int - Percentage of Internet Users\n",
    "<br><br>\n",
    "Int = 12.362775394 + 1.3609265927 * GDP"
   ]
  },
  {
   "cell_type": "markdown",
   "metadata": {},
   "source": [
    ">(b) Interpret the estimates of the slope and the intercept in the context of the problem.\n",
    "\n",
    "As GDP rises more of the population has access to internet."
   ]
  },
  {
   "cell_type": "markdown",
   "metadata": {},
   "source": [
    ">(c) Predict the percentage of Internet users if GDP per capita is US $20,000.\n",
    "\n",
    "Int = 12.362775394 + 1.3609265927 * (20) = 39.581307248"
   ]
  },
  {
   "attachments": {},
   "cell_type": "markdown",
   "metadata": {},
   "source": [
    ">(d) Draw a scatterplot with on the vertical axis and on the horizontal axis, and add the least squares line to the plot <a href = \"http://iainpardoe.com/arm2e/jmp/\" target = \"_blank\">[computer help #15 and #26]</a>.\n",
    "\n",
    "<img src=\"https://i.imgur.com/suxuM8v.png\"/>"
   ]
  },
  {
   "cell_type": "markdown",
   "metadata": {},
   "source": [
    ">(e) Based on the scatterplot, do you think it is appropriate to use this simple linear regression model in this problem, or is the model potentially misleading (and if so, how)? (Problem 4.3 on page 184 investigates some alternative models for this problem.)\n",
    "\n",
    "The low p-value indicates that it is a reasonable model, but there is high variance."
   ]
  },
  {
   "cell_type": "markdown",
   "metadata": {},
   "source": [
    "***"
   ]
  },
  {
   "cell_type": "markdown",
   "metadata": {},
   "source": [
    "**2.2 \"...The MLB data file (downloaded from the ESPN MLB statistics index at espn.go.com/mlb/statistics) contains the number of wins (Win) and the batting average (Bat) calculated as number of hits divided by number of at-bats) for the 2010 regular season. This problem is a highly simplified introduction to sabermetrics, which uses baseball statistics to find objective insights into the game...\"**"
   ]
  },
  {
   "cell_type": "markdown",
   "metadata": {},
   "source": [
    ">(a) Remove the American League teams from the data file to leave just the 16 teams in the National League. Consider using simple linear regression to predict the number of wins from a team's batting average. Would you expect the slope of the resulting least squares line to be positive or negative? Explain.\n",
    "\n",
    "Just looking at the data I would expect the slope to be positive, because the lower Win values are associated with lower Bat values."
   ]
  },
  {
   "cell_type": "markdown",
   "metadata": {},
   "source": [
    ">(b) Construct an appropriate scatterplot of the data [computer help #15]. Does the pattern of points in the scatterplot agree with your answer from part (a)?\n",
    "\n",
    "<img src=\"https://imgur.com/xvMrpkD.png\"/>"
   ]
  },
  {
   "cell_type": "markdown",
   "metadata": {},
   "source": [
    ">(c) Find the intercept and slope of the least squares line and write down the equation of that line [computer help #25].\n",
    "\n",
    "Intercept = -126.8803\n",
    "<br>\n",
    "Slope = 812.85753\n",
    "<br><br>\n",
    "Equation of the line: <br>\n",
    "Win = -126 + 812*Bat"
   ]
  },
  {
   "cell_type": "markdown",
   "metadata": {},
   "source": [
    "\n"
   ]
  },
  {
   "cell_type": "markdown",
   "metadata": {},
   "source": [
    ">(d) Add the least squares line to the scatterplot from part (b) [computer help #26]. Does the least squares line seem to adequately represent the dominant pattern in the points on the scatterplot?\n",
    "\n",
    "Back of the book answer: \"The line seems to represent the linear trend in the data reasonably well and is not overly influenced by any isolated points in the scatterplot\""
   ]
  },
  {
   "cell_type": "markdown",
   "metadata": {},
   "source": [
    ">(e) Does the number of wins appear to be strongly associated with a team's batting average? Explain.\n",
    "\n",
    "Back of the book states that \"there still remains quite a lot of unexplained variance\""
   ]
  },
  {
   "cell_type": "markdown",
   "metadata": {},
   "source": [
    ">(f) Interpret the estimates of the slope and the intercept in the context of the problem.\n",
    "\n",
    "Back of the book: \"The estimated intercept of -127 has little practical interpretation since it corresponds to the expected number of wins for a team that has a zero batting average - a nonsensical value in this context. The estimated slope of 813 corresponds to the expected change in the number of wins as a team's batting average increases by 1 unit. It may be clearer to say that we expect the number of wins to increase by 8.13 games on average when a team's batting average increases by 0.01 unit (e.g. from 0.250 to 0.260)\""
   ]
  },
  {
   "cell_type": "markdown",
   "metadata": {},
   "source": [
    ">(g) Reopen the data file, remove the National League teams from the data file to leave just the 14 teams in the American League, and repeat parts (a) to (f).\n",
    "\n",
    "Back of book: \"The linear association between the number of wins and the batting average is not as strong for the American League teams as it is for the National League teams\"\n",
    "\n",
    "<img src=\"https://imgur.com/1yOt9NO.png\"/>"
   ]
  },
  {
   "cell_type": "markdown",
   "metadata": {},
   "source": []
  },
  {
   "cell_type": "markdown",
   "metadata": {},
   "source": [
    "\n"
   ]
  },
  {
   "cell_type": "markdown",
   "metadata": {},
   "source": []
  },
  {
   "cell_type": "markdown",
   "metadata": {},
   "source": []
  },
  {
   "cell_type": "markdown",
   "metadata": {},
   "source": []
  },
  {
   "cell_type": "markdown",
   "metadata": {},
   "source": []
  },
  {
   "cell_type": "markdown",
   "metadata": {},
   "source": []
  },
  {
   "cell_type": "markdown",
   "metadata": {},
   "source": [
    "\n"
   ]
  }
 ],
 "metadata": {
  "kernelspec": {
   "display_name": "Python 3",
   "language": "python",
   "name": "python3"
  },
  "language_info": {
   "codemirror_mode": {
    "name": "ipython",
    "version": 3
   },
   "file_extension": ".py",
   "mimetype": "text/x-python",
   "name": "python",
   "nbconvert_exporter": "python",
   "pygments_lexer": "ipython3",
   "version": "3.6.5"
  }
 },
 "nbformat": 4,
 "nbformat_minor": 2
}
